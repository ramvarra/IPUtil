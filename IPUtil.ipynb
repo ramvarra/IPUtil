{
 "cells": [
  {
   "cell_type": "code",
   "execution_count": 11,
   "metadata": {
    "collapsed": true
   },
   "outputs": [],
   "source": [
    "import os, sys\n",
    "import pandas as pd\n",
    "import ipaddress"
   ]
  },
  {
   "cell_type": "code",
   "execution_count": 62,
   "metadata": {},
   "outputs": [],
   "source": [
    "df = pd.read_csv('ipranges.csv')\n",
    "\n",
    "def subnet_details(sn):\n",
    "    n = ipaddress.ip_network(sn)\n",
    "    n_end = n.network_address + n.num_addresses - 1\n",
    "    return pd.Series({'IP_START': int(n.network_address), 'IP_END': int(n_end), 'NUM': n.num_addresses, \n",
    "            'IPS_START': str(n.network_address), 'IPS_END': str(n_end)})\n",
    "df = df.join(pd.DataFrame(df.SUBNET.apply(subnet_details))).sort_values(['NUM', 'IP_START'])\n",
    "\n",
    "df_list = []\n",
    "for n in df.NUM.unique():\n",
    "    df_list.append(df[df.NUM == n])\n",
    "    "
   ]
  },
  {
   "cell_type": "code",
   "execution_count": 50,
   "metadata": {},
   "outputs": [
    {
     "data": {
      "text/html": [
       "<div>\n",
       "<style>\n",
       "    .dataframe thead tr:only-child th {\n",
       "        text-align: right;\n",
       "    }\n",
       "\n",
       "    .dataframe thead th {\n",
       "        text-align: left;\n",
       "    }\n",
       "\n",
       "    .dataframe tbody tr th {\n",
       "        vertical-align: top;\n",
       "    }\n",
       "</style>\n",
       "<table border=\"1\" class=\"dataframe\">\n",
       "  <thead>\n",
       "    <tr style=\"text-align: right;\">\n",
       "      <th></th>\n",
       "      <th>SUBNET</th>\n",
       "      <th>DESC</th>\n",
       "      <th>IPS_END</th>\n",
       "      <th>IPS_START</th>\n",
       "      <th>IP_END</th>\n",
       "      <th>IP_START</th>\n",
       "      <th>NUM</th>\n",
       "    </tr>\n",
       "  </thead>\n",
       "  <tbody>\n",
       "    <tr>\n",
       "      <th>3</th>\n",
       "      <td>192.168.1.16/29</td>\n",
       "      <td>Home 16-23</td>\n",
       "      <td>192.168.1.23</td>\n",
       "      <td>192.168.1.16</td>\n",
       "      <td>3232235799</td>\n",
       "      <td>3232235792</td>\n",
       "      <td>8</td>\n",
       "    </tr>\n",
       "    <tr>\n",
       "      <th>4</th>\n",
       "      <td>192.168.1.24/29</td>\n",
       "      <td>Home 24-31</td>\n",
       "      <td>192.168.1.31</td>\n",
       "      <td>192.168.1.24</td>\n",
       "      <td>3232235807</td>\n",
       "      <td>3232235800</td>\n",
       "      <td>8</td>\n",
       "    </tr>\n",
       "    <tr>\n",
       "      <th>2</th>\n",
       "      <td>192.168.1.16/28</td>\n",
       "      <td>Home 16-31</td>\n",
       "      <td>192.168.1.31</td>\n",
       "      <td>192.168.1.16</td>\n",
       "      <td>3232235807</td>\n",
       "      <td>3232235792</td>\n",
       "      <td>16</td>\n",
       "    </tr>\n",
       "    <tr>\n",
       "      <th>5</th>\n",
       "      <td>192.168.1.32/28</td>\n",
       "      <td>Home 32-47</td>\n",
       "      <td>192.168.1.47</td>\n",
       "      <td>192.168.1.32</td>\n",
       "      <td>3232235823</td>\n",
       "      <td>3232235808</td>\n",
       "      <td>16</td>\n",
       "    </tr>\n",
       "    <tr>\n",
       "      <th>6</th>\n",
       "      <td>192.168.1.48/28</td>\n",
       "      <td>Home 48-63</td>\n",
       "      <td>192.168.1.63</td>\n",
       "      <td>192.168.1.48</td>\n",
       "      <td>3232235839</td>\n",
       "      <td>3232235824</td>\n",
       "      <td>16</td>\n",
       "    </tr>\n",
       "    <tr>\n",
       "      <th>1</th>\n",
       "      <td>192.168.1.128/25</td>\n",
       "      <td>Home Static Range 128-255</td>\n",
       "      <td>192.168.1.255</td>\n",
       "      <td>192.168.1.128</td>\n",
       "      <td>3232236031</td>\n",
       "      <td>3232235904</td>\n",
       "      <td>128</td>\n",
       "    </tr>\n",
       "    <tr>\n",
       "      <th>0</th>\n",
       "      <td>192.168.1.0/24</td>\n",
       "      <td>HOME All</td>\n",
       "      <td>192.168.1.255</td>\n",
       "      <td>192.168.1.0</td>\n",
       "      <td>3232236031</td>\n",
       "      <td>3232235776</td>\n",
       "      <td>256</td>\n",
       "    </tr>\n",
       "  </tbody>\n",
       "</table>\n",
       "</div>"
      ],
      "text/plain": [
       "             SUBNET                       DESC        IPS_END      IPS_START  \\\n",
       "3   192.168.1.16/29                 Home 16-23   192.168.1.23   192.168.1.16   \n",
       "4   192.168.1.24/29                 Home 24-31   192.168.1.31   192.168.1.24   \n",
       "2   192.168.1.16/28                 Home 16-31   192.168.1.31   192.168.1.16   \n",
       "5   192.168.1.32/28                 Home 32-47   192.168.1.47   192.168.1.32   \n",
       "6   192.168.1.48/28                 Home 48-63   192.168.1.63   192.168.1.48   \n",
       "1  192.168.1.128/25  Home Static Range 128-255  192.168.1.255  192.168.1.128   \n",
       "0    192.168.1.0/24                   HOME All  192.168.1.255    192.168.1.0   \n",
       "\n",
       "       IP_END    IP_START  NUM  \n",
       "3  3232235799  3232235792    8  \n",
       "4  3232235807  3232235800    8  \n",
       "2  3232235807  3232235792   16  \n",
       "5  3232235823  3232235808   16  \n",
       "6  3232235839  3232235824   16  \n",
       "1  3232236031  3232235904  128  \n",
       "0  3232236031  3232235776  256  "
      ]
     },
     "execution_count": 50,
     "metadata": {},
     "output_type": "execute_result"
    }
   ],
   "source": [
    "df"
   ]
  },
  {
   "cell_type": "code",
   "execution_count": 60,
   "metadata": {},
   "outputs": [],
   "source": []
  },
  {
   "cell_type": "code",
   "execution_count": 61,
   "metadata": {},
   "outputs": [
    {
     "data": {
      "text/plain": [
       "[            SUBNET        DESC       IPS_END     IPS_START      IP_END  \\\n",
       " 3  192.168.1.16/29  Home 16-23  192.168.1.23  192.168.1.16  3232235799   \n",
       " 4  192.168.1.24/29  Home 24-31  192.168.1.31  192.168.1.24  3232235807   \n",
       " \n",
       "      IP_START  NUM  \n",
       " 3  3232235792    8  \n",
       " 4  3232235800    8  ,\n",
       "             SUBNET        DESC       IPS_END     IPS_START      IP_END  \\\n",
       " 2  192.168.1.16/28  Home 16-31  192.168.1.31  192.168.1.16  3232235807   \n",
       " 5  192.168.1.32/28  Home 32-47  192.168.1.47  192.168.1.32  3232235823   \n",
       " 6  192.168.1.48/28  Home 48-63  192.168.1.63  192.168.1.48  3232235839   \n",
       " \n",
       "      IP_START  NUM  \n",
       " 2  3232235792   16  \n",
       " 5  3232235808   16  \n",
       " 6  3232235824   16  ,\n",
       "              SUBNET                       DESC        IPS_END      IPS_START  \\\n",
       " 1  192.168.1.128/25  Home Static Range 128-255  192.168.1.255  192.168.1.128   \n",
       " \n",
       "        IP_END    IP_START  NUM  \n",
       " 1  3232236031  3232235904  128  ,\n",
       "            SUBNET      DESC        IPS_END    IPS_START      IP_END  \\\n",
       " 0  192.168.1.0/24  HOME All  192.168.1.255  192.168.1.0  3232236031   \n",
       " \n",
       "      IP_START  NUM  \n",
       " 0  3232235776  256  ]"
      ]
     },
     "execution_count": 61,
     "metadata": {},
     "output_type": "execute_result"
    }
   ],
   "source": []
  },
  {
   "cell_type": "code",
   "execution_count": 63,
   "metadata": {},
   "outputs": [
    {
     "data": {
      "text/plain": [
       "SUBNET       192.168.1.32/28\n",
       "DESC              Home 32-47\n",
       "IPS_END         192.168.1.47\n",
       "IPS_START       192.168.1.32\n",
       "IP_END            3232235823\n",
       "IP_START          3232235808\n",
       "NUM                       16\n",
       "Name: 5, dtype: object"
      ]
     },
     "execution_count": 63,
     "metadata": {},
     "output_type": "execute_result"
    }
   ],
   "source": [
    "def lookup_ip(ip):\n",
    "    ipa = ipaddress.ip_address(ip)\n",
    "    nip = int(ipa)\n",
    "    for df in df_list:\n",
    "        res = df[(df.IP_START <= nip) & (df.IP_END >= nip)]\n",
    "        if len(res) > 0:\n",
    "            return res.iloc[0]\n",
    "    return None\n",
    "\n",
    "ip = '192.168.1.34'\n",
    "lookup_ip(ip)"
   ]
  },
  {
   "cell_type": "code",
   "execution_count": 45,
   "metadata": {},
   "outputs": [
    {
     "data": {
      "text/html": [
       "<div>\n",
       "<style>\n",
       "    .dataframe thead tr:only-child th {\n",
       "        text-align: right;\n",
       "    }\n",
       "\n",
       "    .dataframe thead th {\n",
       "        text-align: left;\n",
       "    }\n",
       "\n",
       "    .dataframe tbody tr th {\n",
       "        vertical-align: top;\n",
       "    }\n",
       "</style>\n",
       "<table border=\"1\" class=\"dataframe\">\n",
       "  <thead>\n",
       "    <tr style=\"text-align: right;\">\n",
       "      <th></th>\n",
       "      <th>SUBNET</th>\n",
       "      <th>DESC</th>\n",
       "      <th>IPS_END</th>\n",
       "      <th>IPS_START</th>\n",
       "      <th>IP_END</th>\n",
       "      <th>IP_START</th>\n",
       "      <th>NUM</th>\n",
       "    </tr>\n",
       "  </thead>\n",
       "  <tbody>\n",
       "    <tr>\n",
       "      <th>1</th>\n",
       "      <td>192.168.1.128/25</td>\n",
       "      <td>Home Static Range 128-255</td>\n",
       "      <td>192.168.1.255</td>\n",
       "      <td>192.168.1.128</td>\n",
       "      <td>3232236031</td>\n",
       "      <td>3232235904</td>\n",
       "      <td>128</td>\n",
       "    </tr>\n",
       "    <tr>\n",
       "      <th>0</th>\n",
       "      <td>192.168.1.0/24</td>\n",
       "      <td>HOME All</td>\n",
       "      <td>192.168.1.255</td>\n",
       "      <td>192.168.1.0</td>\n",
       "      <td>3232236031</td>\n",
       "      <td>3232235776</td>\n",
       "      <td>256</td>\n",
       "    </tr>\n",
       "  </tbody>\n",
       "</table>\n",
       "</div>"
      ],
      "text/plain": [
       "             SUBNET                       DESC        IPS_END      IPS_START  \\\n",
       "1  192.168.1.128/25  Home Static Range 128-255  192.168.1.255  192.168.1.128   \n",
       "0    192.168.1.0/24                   HOME All  192.168.1.255    192.168.1.0   \n",
       "\n",
       "       IP_END    IP_START  NUM  \n",
       "1  3232236031  3232235904  128  \n",
       "0  3232236031  3232235776  256  "
      ]
     },
     "execution_count": 45,
     "metadata": {},
     "output_type": "execute_result"
    }
   ],
   "source": []
  },
  {
   "cell_type": "code",
   "execution_count": 21,
   "metadata": {},
   "outputs": [
    {
     "data": {
      "text/plain": [
       "IPv4Address('192.168.1.20')"
      ]
     },
     "execution_count": 21,
     "metadata": {},
     "output_type": "execute_result"
    }
   ],
   "source": [
    "n.network_address + 4"
   ]
  },
  {
   "cell_type": "code",
   "execution_count": 25,
   "metadata": {},
   "outputs": [
    {
     "data": {
      "text/plain": [
       "'192.168.1.16'"
      ]
     },
     "execution_count": 25,
     "metadata": {},
     "output_type": "execute_result"
    }
   ],
   "source": [
    "str(n.network_address)"
   ]
  },
  {
   "cell_type": "code",
   "execution_count": 33,
   "metadata": {},
   "outputs": [
    {
     "data": {
      "text/html": [
       "<div>\n",
       "<style>\n",
       "    .dataframe thead tr:only-child th {\n",
       "        text-align: right;\n",
       "    }\n",
       "\n",
       "    .dataframe thead th {\n",
       "        text-align: left;\n",
       "    }\n",
       "\n",
       "    .dataframe tbody tr th {\n",
       "        vertical-align: top;\n",
       "    }\n",
       "</style>\n",
       "<table border=\"1\" class=\"dataframe\">\n",
       "  <thead>\n",
       "    <tr style=\"text-align: right;\">\n",
       "      <th></th>\n",
       "      <th>SUBNET</th>\n",
       "      <th>DESC</th>\n",
       "      <th>IPS_END</th>\n",
       "      <th>IPS_START</th>\n",
       "      <th>IP_END</th>\n",
       "      <th>IP_START</th>\n",
       "      <th>NUM</th>\n",
       "    </tr>\n",
       "  </thead>\n",
       "  <tbody>\n",
       "    <tr>\n",
       "      <th>0</th>\n",
       "      <td>192.168.1.0/24</td>\n",
       "      <td>HOME All</td>\n",
       "      <td>192.168.1.255</td>\n",
       "      <td>192.168.1.0</td>\n",
       "      <td>3232236031</td>\n",
       "      <td>3232235776</td>\n",
       "      <td>256</td>\n",
       "    </tr>\n",
       "    <tr>\n",
       "      <th>1</th>\n",
       "      <td>192.168.1.128/25</td>\n",
       "      <td>Home Static Range 128-255</td>\n",
       "      <td>192.168.1.255</td>\n",
       "      <td>192.168.1.128</td>\n",
       "      <td>3232236031</td>\n",
       "      <td>3232235904</td>\n",
       "      <td>128</td>\n",
       "    </tr>\n",
       "    <tr>\n",
       "      <th>2</th>\n",
       "      <td>192.168.1.16/28</td>\n",
       "      <td>Home 16-31</td>\n",
       "      <td>192.168.1.31</td>\n",
       "      <td>192.168.1.16</td>\n",
       "      <td>3232235807</td>\n",
       "      <td>3232235792</td>\n",
       "      <td>16</td>\n",
       "    </tr>\n",
       "    <tr>\n",
       "      <th>3</th>\n",
       "      <td>192.168.1.16/29</td>\n",
       "      <td>Home 16-23</td>\n",
       "      <td>192.168.1.23</td>\n",
       "      <td>192.168.1.16</td>\n",
       "      <td>3232235799</td>\n",
       "      <td>3232235792</td>\n",
       "      <td>8</td>\n",
       "    </tr>\n",
       "    <tr>\n",
       "      <th>4</th>\n",
       "      <td>192.168.1.24/29</td>\n",
       "      <td>Home 24-31</td>\n",
       "      <td>192.168.1.31</td>\n",
       "      <td>192.168.1.24</td>\n",
       "      <td>3232235807</td>\n",
       "      <td>3232235800</td>\n",
       "      <td>8</td>\n",
       "    </tr>\n",
       "    <tr>\n",
       "      <th>5</th>\n",
       "      <td>192.168.1.32/28</td>\n",
       "      <td>Home 32-47</td>\n",
       "      <td>192.168.1.47</td>\n",
       "      <td>192.168.1.32</td>\n",
       "      <td>3232235823</td>\n",
       "      <td>3232235808</td>\n",
       "      <td>16</td>\n",
       "    </tr>\n",
       "    <tr>\n",
       "      <th>6</th>\n",
       "      <td>192.168.1.48/28</td>\n",
       "      <td>Home 48-63</td>\n",
       "      <td>192.168.1.63</td>\n",
       "      <td>192.168.1.48</td>\n",
       "      <td>3232235839</td>\n",
       "      <td>3232235824</td>\n",
       "      <td>16</td>\n",
       "    </tr>\n",
       "  </tbody>\n",
       "</table>\n",
       "</div>"
      ],
      "text/plain": [
       "             SUBNET                       DESC        IPS_END      IPS_START  \\\n",
       "0    192.168.1.0/24                   HOME All  192.168.1.255    192.168.1.0   \n",
       "1  192.168.1.128/25  Home Static Range 128-255  192.168.1.255  192.168.1.128   \n",
       "2   192.168.1.16/28                 Home 16-31   192.168.1.31   192.168.1.16   \n",
       "3   192.168.1.16/29                 Home 16-23   192.168.1.23   192.168.1.16   \n",
       "4   192.168.1.24/29                 Home 24-31   192.168.1.31   192.168.1.24   \n",
       "5   192.168.1.32/28                 Home 32-47   192.168.1.47   192.168.1.32   \n",
       "6   192.168.1.48/28                 Home 48-63   192.168.1.63   192.168.1.48   \n",
       "\n",
       "       IP_END    IP_START  NUM  \n",
       "0  3232236031  3232235776  256  \n",
       "1  3232236031  3232235904  128  \n",
       "2  3232235807  3232235792   16  \n",
       "3  3232235799  3232235792    8  \n",
       "4  3232235807  3232235800    8  \n",
       "5  3232235823  3232235808   16  \n",
       "6  3232235839  3232235824   16  "
      ]
     },
     "execution_count": 33,
     "metadata": {},
     "output_type": "execute_result"
    }
   ],
   "source": []
  },
  {
   "cell_type": "code",
   "execution_count": null,
   "metadata": {
    "collapsed": true
   },
   "outputs": [],
   "source": []
  }
 ],
 "metadata": {
  "kernelspec": {
   "display_name": "Python 3",
   "language": "python",
   "name": "python3"
  },
  "language_info": {
   "codemirror_mode": {
    "name": "ipython",
    "version": 3
   },
   "file_extension": ".py",
   "mimetype": "text/x-python",
   "name": "python",
   "nbconvert_exporter": "python",
   "pygments_lexer": "ipython3",
   "version": "3.6.1"
  }
 },
 "nbformat": 4,
 "nbformat_minor": 2
}
